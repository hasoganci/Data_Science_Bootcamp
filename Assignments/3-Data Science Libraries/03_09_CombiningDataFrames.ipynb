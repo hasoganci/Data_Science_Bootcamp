{
 "cells": [
  {
   "cell_type": "markdown",
   "metadata": {
    "colab_type": "text",
    "id": "zTOA3yGE7hox"
   },
   "source": [
    "# <font color=blue>Assignments for \"Combining DataFrames\"</font>\n",
    "\n",
    "\n",
    "For Pandas assignments, you are going to use [Titanic](https://www.kaggle.com/c/titanic/download/GQf0y8ebHO0C4JXscPPp%2Fversions%2FXkNkvXwqPPVG0Qt3MtQT%2Ffiles%2Ftrain.csv) (train.csv) dataset. Download the dataset and load to a data frame. We also need [test set](https://www.kaggle.com/c/titanic/download/GQf0y8ebHO0C4JXscPPp%2Fversions%2FXkNkvXwqPPVG0Qt3MtQT%2Ffiles%2Ftest.csv) (test.csv) for this assignment.\n",
    "\n",
    "1. Read both datasets and concatenate test set to train set. Print lenght of new dataset."
   ]
  },
  {
   "cell_type": "code",
   "execution_count": null,
   "metadata": {},
   "outputs": [],
   "source": []
  },
  {
   "cell_type": "markdown",
   "metadata": {},
   "source": [
    "2. Below are 2 groups of values for 2 datasets. The first one is for features and the second one is for target. Using these, create 2 data frames with the methods you have learned in the previous lessons. Then, merge them with all 4 methods and display lenghts of them.\n",
    "\n",
    "```  python\n",
    "id,age,sex,beats_per_sec,cholesterol\n",
    "1001,63,Male,145,233\n",
    "1001,37,Male,130,250\n",
    "1002,41,Female,130,204\n",
    "1002,56,Male,120,236\n",
    "1003,57,Female,120,354\n",
    "1004,57,Male,140,192\n",
    "1005,56,Female,140,294\n",
    "1006,44,Male,120,263\n",
    "1007,52,Male,172,199\n",
    "1007,57,Male,150,168\n",
    "1008,54,Male,140,239\n",
    "1008,48,Female,150,264\n",
    "\n",
    "\n",
    "id,target\n",
    "1001,0\n",
    "1002,1\n",
    "1004,0\n",
    "1005,1\n",
    "1007,0\n",
    "1008,1\n",
    "```"
   ]
  },
  {
   "cell_type": "code",
   "execution_count": null,
   "metadata": {},
   "outputs": [],
   "source": []
  }
 ],
 "metadata": {
  "kernelspec": {
   "display_name": "Python 3",
   "language": "python",
   "name": "python3"
  },
  "language_info": {
   "codemirror_mode": {
    "name": "ipython",
    "version": 3
   },
   "file_extension": ".py",
   "mimetype": "text/x-python",
   "name": "python",
   "nbconvert_exporter": "python",
   "pygments_lexer": "ipython3",
   "version": "3.7.3"
  }
 },
 "nbformat": 4,
 "nbformat_minor": 4
}

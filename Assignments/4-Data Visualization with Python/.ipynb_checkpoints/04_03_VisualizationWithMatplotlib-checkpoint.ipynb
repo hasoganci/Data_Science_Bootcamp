{
 "cells": [
  {
   "cell_type": "markdown",
   "metadata": {},
   "source": [
    "# <font color=blue>Assignments for \"Visualization with Matplotlib\"</font>"
   ]
  },
  {
   "cell_type": "markdown",
   "metadata": {},
   "source": [
    "In this assignment, you will make some plots about Corona. First, download the [Coronavirus Source Data](https://ourworldindata.org/coronavirus-source-data).\n",
    "\n",
    "- First, filter the data for four countries (Spain, France, Germany, Italy) and the last 100 days. \n",
    "\n",
    "- Create a figure with two subplots. The left subplot will show total cases, and the right one will show total deaths for these countries\n",
    "\n",
    "- Set titles, X and Y labels, change the font, font size, and font color for each subplot.\n",
    "\n",
    "- Change color, width, and type of lines.\n",
    "\n",
    "- Put a legend to bottom right.\n",
    "\n",
    "- Change the color and rotation of the X-axis ticks.\n",
    "\n",
    "- And set a title for the figure (not for the plots)."
   ]
  },
  {
   "cell_type": "code",
   "execution_count": 43,
   "metadata": {},
   "outputs": [],
   "source": [
    "import pandas as pd\n",
    "covid = pd.read_csv('owid-covid-data.csv')\n",
    "covid.head()\n",
    "country = [\"ESP\", \"DEU\", \"ITA\", 'FRA']\n",
    "for n in country:\n",
    "    covid[(covid['iso_code'] == n)]\n",
    "#covid[(covid['iso_code'] == 'ESP') | (covid['iso_code'] == 'DEU') | (covid['iso_code'] == 'ITA') | (covid['iso_code'] == 'FRA')]\n"
   ]
  }
 ],
 "metadata": {
  "kernelspec": {
   "display_name": "Python 3",
   "language": "python",
   "name": "python3"
  },
  "language_info": {
   "codemirror_mode": {
    "name": "ipython",
    "version": 3
   },
   "file_extension": ".py",
   "mimetype": "text/x-python",
   "name": "python",
   "nbconvert_exporter": "python",
   "pygments_lexer": "ipython3",
   "version": "3.7.7"
  }
 },
 "nbformat": 4,
 "nbformat_minor": 4
}

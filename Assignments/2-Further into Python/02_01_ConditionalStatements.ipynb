{
 "cells": [
  {
   "cell_type": "markdown",
   "metadata": {},
   "source": [
    "# Assignments for \"Conditional Statements\""
   ]
  },
  {
   "cell_type": "markdown",
   "metadata": {},
   "source": [
    "1. Please get Celcius or Fahrenheit degrees from users and type a code to convert these heat units to each other.  \n",
    "    For conversion, please use this formula: C = (5/9) * (F - 32)\n",
    "    \n",
    "        Example : \"40C\" --> \"104F\"\n",
    "                  \"52F\" --> \"11.1C\""
   ]
  },
  {
   "cell_type": "code",
   "execution_count": 23,
   "metadata": {},
   "outputs": [
    {
     "name": "stdin",
     "output_type": "stream",
     "text": [
      "Enter a degree as Celcius or Fahrenheit in following format: (Number and \"C\" or \"F\") 13.33C\n"
     ]
    },
    {
     "name": "stdout",
     "output_type": "stream",
     "text": [
      "result:  55.994 F\n"
     ]
    }
   ],
   "source": [
    "degree = input('Enter a degree as Celcius or Fahrenheit in following format: (Number and \"C\" or \"F\")')\n",
    "if(degree[len(degree)-1] == 'F'):\n",
    "    i = float(degree[:len(degree)-1])\n",
    "    res = (i-32)*5/9\n",
    "    print('result: ', res, 'C')\n",
    "elif(degree[len(degree)-1] == 'C'):\n",
    "    i = float(degree[:len(degree)-1])\n",
    "    res = i*9/5 + 32\n",
    "    print('result: ', res, 'F')\n",
    "else :\n",
    "    print('invalid input. Try again.')"
   ]
  },
  {
   "cell_type": "markdown",
   "metadata": {},
   "source": [
    "2. A company decided to give a bonus of 5% to the employees if his/her year of service is more than 5 years.\n",
    "Ask the user for their salary and year of service and print the net bonus amount."
   ]
  },
  {
   "cell_type": "code",
   "execution_count": 38,
   "metadata": {},
   "outputs": [
    {
     "name": "stdin",
     "output_type": "stream",
     "text": [
      "enter your salary:  3500\n",
      "enter your year of service: 6\n"
     ]
    },
    {
     "name": "stdout",
     "output_type": "stream",
     "text": [
      "Amount of bonus you get:  175.0\n"
     ]
    }
   ],
   "source": [
    "salary = int(input('enter your salary: '))\n",
    "years = int(input('enter your year of service:'))\n",
    "if(years > 5):\n",
    "    print('Amount of bonus you get: ', salary*0.05)\n",
    "else:\n",
    "    print('You do not have any bonus.')"
   ]
  },
  {
   "cell_type": "markdown",
   "metadata": {},
   "source": [
    "3. Take input of ages of 3 people by the user and determine the oldest and youngest among them."
   ]
  },
  {
   "cell_type": "code",
   "execution_count": 43,
   "metadata": {},
   "outputs": [
    {
     "name": "stdin",
     "output_type": "stream",
     "text": [
      "enter first age:  23\n",
      "enter second age:  34\n",
      "enter third age:  56\n"
     ]
    },
    {
     "name": "stdout",
     "output_type": "stream",
     "text": [
      "The biggest:  56\n",
      "The smallest:  23\n"
     ]
    }
   ],
   "source": [
    "age1 = int(input('enter first age: '))\n",
    "age2 = int(input('enter second age: '))\n",
    "age3 = int(input('enter third age: '))\n",
    "if(age1 > age2):\n",
    "    if(age1 > age3):\n",
    "        print('The biggest: ', age1)\n",
    "        if(age2 > age3):\n",
    "            print('The smallest: ', age3)\n",
    "        else:\n",
    "            print('The smallest: ', age2)\n",
    "    else:\n",
    "        print('The biggest: ', age3)\n",
    "        print('The smallest: ', age2)\n",
    "else:\n",
    "    if(age2 > age3):\n",
    "        print('The biggest: ', age2)\n",
    "        if(age1 > age3):\n",
    "            print('The smallest: ', age3)\n",
    "        else:\n",
    "            print('The smallest: ', age1)\n",
    "    else:\n",
    "        print('The biggest: ', age3)\n",
    "        print('The smallest: ', age1)\n",
    " \n",
    "    "
   ]
  },
  {
   "cell_type": "markdown",
   "metadata": {},
   "source": [
    "4. A student will not be allowed to attend to the exam if his / her attendance to classes is less than 75%. Take followings input from the user:\n",
    "    - Number of classes held,\n",
    "    - Number of classes attended.\n",
    "   \n",
    "    Then, print the percentage of classes attended and whether the student is allowed to attend in an exam or not."
   ]
  },
  {
   "cell_type": "code",
   "execution_count": 46,
   "metadata": {},
   "outputs": [
    {
     "name": "stdin",
     "output_type": "stream",
     "text": [
      "Enter the number of classes held:  34\n",
      "Enter the number of classes attended:  28\n"
     ]
    },
    {
     "name": "stdout",
     "output_type": "stream",
     "text": [
      "percentage of classes attended:  82.3529411764706\n",
      "you are lucky, you are allowed to attend exam.\n"
     ]
    }
   ],
   "source": [
    "num_classes = int(input('Enter the number of classes held: '))\n",
    "num_attended = int(input('Enter the number of classes attended: '))\n",
    "attendance = num_attended*100/num_classes\n",
    "print('percentage of classes attended: ', attendance)\n",
    "if(attendance > 75):\n",
    "    print('You are lucky, you are allowed to attend exam.')\n",
    "else:\n",
    "    print('You are not allowed to attend exam.')\n"
   ]
  },
  {
   "cell_type": "markdown",
   "metadata": {},
   "source": [
    "5. In this exercise, you will create a program that reads a letter of the alphabet from the user. According to the answer:\n",
    "\n",
    "    - If the user enters `a, e, i, o, u`, then your program should display a message indicating that the entered letter is a vowel.\n",
    "    - If the user enters `y`, then your program should display a message indicating that y is sometimes a vowel and sometimes a consonant.\n",
    "    - Otherwise, your program should display a message indicating that the letter is a consonant."
   ]
  },
  {
   "cell_type": "code",
   "execution_count": 85,
   "metadata": {},
   "outputs": [
    {
     "name": "stdin",
     "output_type": "stream",
     "text": [
      "enter a letter: i\n"
     ]
    },
    {
     "name": "stdout",
     "output_type": "stream",
     "text": [
      "entered letter is a vowel.\n"
     ]
    }
   ],
   "source": [
    "def print_vowel(): print(\"entered letter is a vowel.\")\n",
    "def print_y(): print(\"y is sometimes a vowel and sometimes a consonant.\")\n",
    "def print_consonant(): print(\"entered letter is a consonant.\")\n",
    "\n",
    "val = input('enter a letter:')\n",
    "\n",
    "if(val=='a' or val=='e' or val=='i' or val=='o' or val=='u'):\n",
    "    print_vowel()\n",
    "elif(val=='y'):\n",
    "    print_y()\n",
    "elif(val != ''):\n",
    "    print_consonant()"
   ]
  }
 ],
 "metadata": {
  "kernelspec": {
   "display_name": "Python 3",
   "language": "python",
   "name": "python3"
  },
  "language_info": {
   "codemirror_mode": {
    "name": "ipython",
    "version": 3
   },
   "file_extension": ".py",
   "mimetype": "text/x-python",
   "name": "python",
   "nbconvert_exporter": "python",
   "pygments_lexer": "ipython3",
   "version": "3.7.7"
  }
 },
 "nbformat": 4,
 "nbformat_minor": 4
}

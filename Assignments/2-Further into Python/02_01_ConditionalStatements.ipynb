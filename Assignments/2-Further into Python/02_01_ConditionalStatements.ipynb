{
 "cells": [
  {
   "cell_type": "markdown",
   "metadata": {},
   "source": [
    "# Assignments for \"Conditional Statements\""
   ]
  },
  {
   "cell_type": "markdown",
   "metadata": {},
   "source": [
    "1. Please get Celcius or Fahrenheit degrees from users and type a code to convert these heat units to each other.  \n",
    "    For conversion, please use this formula: C = (5/9) * (F - 32)\n",
    "    \n",
    "        Example : \"40C\" --> \"104F\"\n",
    "                  \"52F\" --> \"11.1C\""
   ]
  },
  {
   "cell_type": "code",
   "execution_count": null,
   "metadata": {},
   "outputs": [],
   "source": []
  },
  {
   "cell_type": "markdown",
   "metadata": {},
   "source": [
    "2. A company decided to give a bonus of 5% to the employees if his/her year of service is more than 5 years.\n",
    "Ask the user for their salary and year of service and print the net bonus amount."
   ]
  },
  {
   "cell_type": "code",
   "execution_count": null,
   "metadata": {},
   "outputs": [],
   "source": []
  },
  {
   "cell_type": "markdown",
   "metadata": {},
   "source": [
    "3. Take input of ages of 3 people by the user and determine the oldest and youngest among them."
   ]
  },
  {
   "cell_type": "code",
   "execution_count": null,
   "metadata": {},
   "outputs": [],
   "source": []
  },
  {
   "cell_type": "markdown",
   "metadata": {},
   "source": [
    "4. A student will not be allowed to attend to the exam if his / her attendance to classes is less than 75%. Take followings input from the user:\n",
    "    - Number of classes held,\n",
    "    - Number of classes attended.\n",
    "   \n",
    "    Then, print the percentage of classes attended and whether the student is allowed to attend in an exam or not."
   ]
  },
  {
   "cell_type": "code",
   "execution_count": null,
   "metadata": {},
   "outputs": [],
   "source": []
  },
  {
   "cell_type": "markdown",
   "metadata": {},
   "source": [
    "5. In this exercise, you will create a program that reads a letter of the alphabet from the user. According to the answer:\n",
    "\n",
    "    - If the user enters `a, e, i, o, u`, then your program should display a message indicating that the entered letter is a vowel.\n",
    "    - If the user enters `y`, then your program should display a message indicating that y is sometimes a vowel and sometimes a consonant.\n",
    "    - Otherwise, your program should display a message indicating that the letter is a consonant."
   ]
  },
  {
   "cell_type": "code",
   "execution_count": null,
   "metadata": {},
   "outputs": [],
   "source": []
  }
 ],
 "metadata": {
  "kernelspec": {
   "display_name": "Python 3",
   "language": "python",
   "name": "python3"
  },
  "language_info": {
   "codemirror_mode": {
    "name": "ipython",
    "version": 3
   },
   "file_extension": ".py",
   "mimetype": "text/x-python",
   "name": "python",
   "nbconvert_exporter": "python",
   "pygments_lexer": "ipython3",
   "version": "3.7.7"
  }
 },
 "nbformat": 4,
 "nbformat_minor": 4
}

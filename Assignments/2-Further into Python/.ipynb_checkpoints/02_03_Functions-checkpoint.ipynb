{
 "cells": [
  {
   "cell_type": "markdown",
   "metadata": {},
   "source": [
    "# Assignments for \"Functions\""
   ]
  },
  {
   "cell_type": "markdown",
   "metadata": {},
   "source": [
    "1. A prime number is an integer greater than one that is only divisible by one and itself. Write a function that determines whether or not its parameter is prime, returns `True` if it is and `False` otherwise. Write a main program that reads an integer from the user and displays a message indicating whether or not it is prime. Ensure that the main program does not run if the file containing your solution is imported into another program.<br>"
   ]
  },
  {
   "cell_type": "code",
   "execution_count": null,
   "metadata": {},
   "outputs": [],
   "source": []
  },
  {
   "cell_type": "markdown",
   "metadata": {},
   "source": [
    "2. Please write a function that passes each element of a list only once to a new list. We usually do this with the `set()` command, but let us not use this command this time.\n",
    "\n",
    "    Example:\n",
    "    \n",
    "        unique_list([1,2,2,3,3,4,4]) = [1,2,3,4] <br><br>"
   ]
  },
  {
   "cell_type": "code",
   "execution_count": null,
   "metadata": {},
   "outputs": [],
   "source": []
  },
  {
   "cell_type": "markdown",
   "metadata": {},
   "source": [
    "3. There are many built-in modules in Python. By importing one of the modules on time, write a function that takes the date of birth as a parameter and returns the age.<br><br>"
   ]
  },
  {
   "cell_type": "code",
   "execution_count": null,
   "metadata": {},
   "outputs": [],
   "source": []
  },
  {
   "cell_type": "markdown",
   "metadata": {},
   "source": [
    "4. Get a number from the user and calculate the factorial of it by using a function.<br><br>"
   ]
  },
  {
   "cell_type": "code",
   "execution_count": null,
   "metadata": {},
   "outputs": [],
   "source": []
  },
  {
   "cell_type": "markdown",
   "metadata": {},
   "source": [
    "5. Write a function named `perfect()` that determines if the parameter number is a perfect number. Use this function in a program that determines and prints all the perfect numbers between 1 and 1000.\n",
    "\n",
    "    An integer number is said to be a `perfect number` if its factors (including 1, but not the number itself) sum to the number. \n",
    "\n",
    "        E.g.: 6 is a perfect number because 6 = 1 + 2 + 3.<br><br>"
   ]
  },
  {
   "cell_type": "code",
   "execution_count": null,
   "metadata": {},
   "outputs": [],
   "source": []
  },
  {
   "cell_type": "markdown",
   "metadata": {},
   "source": [
    "6. Write a Python function that prints out the first n rows of [Pascal's triangle](https://en.wikipedia.org/wiki/Pascal%27s_triangle). \n",
    "\n",
    "<div style=\"text-align:center;\">\n",
    "    <img src=\"https://bootrain-lms-assets.s3.eu-central-1.amazonaws.com/bootrain-lms-static/images/02_IntermediatePython/03_PascalsTriangle.gif\" width=\"200\">\n",
    "    \n",
    "    In Pascal's triangle, each number is the sum of the two numbers directly above it.\n",
    "</div>"
   ]
  },
  {
   "cell_type": "code",
   "execution_count": null,
   "metadata": {},
   "outputs": [],
   "source": []
  }
 ],
 "metadata": {
  "kernelspec": {
   "display_name": "Python 3",
   "language": "python",
   "name": "python3"
  },
  "language_info": {
   "codemirror_mode": {
    "name": "ipython",
    "version": 3
   },
   "file_extension": ".py",
   "mimetype": "text/x-python",
   "name": "python",
   "nbconvert_exporter": "python",
   "pygments_lexer": "ipython3",
   "version": "3.7.3"
  }
 },
 "nbformat": 4,
 "nbformat_minor": 4
}

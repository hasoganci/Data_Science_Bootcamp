{
 "cells": [
  {
   "cell_type": "markdown",
   "metadata": {},
   "source": [
    "# Assignments for \"Basic Data Types\" "
   ]
  },
  {
   "cell_type": "markdown",
   "metadata": {},
   "source": [
    "1. Suppose you invested in Bitcoin at the end of 2017 when Bitcoin gained a lot of value. What would be your money at the end of a week if you had invested \\$1000 with an average daily increase of 12\\% ? You can solve the problem using Python."
   ]
  },
  {
   "cell_type": "code",
   "execution_count": 24,
   "metadata": {},
   "outputs": [
    {
     "name": "stdout",
     "output_type": "stream",
     "text": [
      "Total Growth Rate:  2.2106814074060814\n",
      "Final Capital:  2210.6814074060812\n"
     ]
    }
   ],
   "source": [
    "capital = 1000\n",
    "daily_growth = 12 # percentage\n",
    "day_period = 7\n",
    "\n",
    "growth_rate = (daily_growth/100 + 1) ** day_period\n",
    "print(\"Total Growth Rate: \", growth_rate)\n",
    "\n",
    "final_capital = capital * growth_rate\n",
    "\n",
    "print(\"Final Capital: \",final_capital)"
   ]
  },
  {
   "cell_type": "markdown",
   "metadata": {},
   "source": [
    "2. Print the text in quotes with Python. However, you must get the numbers from variables using `.format()` notation. <br> Because the text is long, you might consider writing in two lines:\n",
    "\n",
    "        `\"When we buy bitcoin with 1000 USD at the beginning of the week, we would earn 1210.68 USD at the end of the week, with an average gain of 12\\%.\"`"
   ]
  },
  {
   "cell_type": "code",
   "execution_count": 26,
   "metadata": {},
   "outputs": [
    {
     "name": "stdout",
     "output_type": "stream",
     "text": [
      "`\"When we buy bitcoin with 1000 USD at the beginning of the week, \n",
      "we would earn 2210.6814074060812 USD at the end of the week, with an average gain of 12\\%.\"`\n"
     ]
    }
   ],
   "source": [
    "print(\"`\\\"When we buy bitcoin with {} USD at the beginning of the week, \\nwe would earn {} USD at the end of the week, with an average gain of {}\\%.\\\"`\".format(capital, final_capital, daily_growth))"
   ]
  },
  {
   "cell_type": "markdown",
   "metadata": {},
   "source": [
    "3. Get the temperature in Fahrenheit from user and write a code to convert it to Celcius. For conversion, you can use this formula: C = (5/9) * (F - 32)\n",
    "\n",
    "        Enter the temperature in Fahrenheit: \n",
    "        user --> 26\n",
    "        output --> Temperature (C) : -3.33"
   ]
  },
  {
   "cell_type": "code",
   "execution_count": 31,
   "metadata": {},
   "outputs": [
    {
     "name": "stdin",
     "output_type": "stream",
     "text": [
      "Enter the temperature in Fahrenheit: 26\n"
     ]
    },
    {
     "name": "stdout",
     "output_type": "stream",
     "text": [
      "Temperature (C) : -3.3333333333333335\n"
     ]
    }
   ],
   "source": [
    "temperatureFahrenheit = int(input('Enter the temperature in Fahrenheit:'))\n",
    "temperatureCelcius = (temperatureFahrenheit - 32) * 5 / 9\n",
    "print (\"Temperature (C) : {}\".format(temperatureCelcius))"
   ]
  },
  {
   "cell_type": "markdown",
   "metadata": {},
   "source": [
    "4. Get a three digit number the from user and calculate the sum of the digits in the integer.\n",
    "\n",
    "        user --> 365\n",
    "        output --> \"The sum of digits in the number is 14"
   ]
  },
  {
   "cell_type": "code",
   "execution_count": 39,
   "metadata": {},
   "outputs": [
    {
     "name": "stdin",
     "output_type": "stream",
     "text": [
      "Enter a three digit number: 567\n"
     ]
    },
    {
     "name": "stdout",
     "output_type": "stream",
     "text": [
      "The sum of digits in the number is  18\n"
     ]
    }
   ],
   "source": [
    "number = int(input('Enter a three digit number:'))\n",
    "sum_of_digits = int(number/100) + int((number/10)%10) + number%10\n",
    "print('The sum of digits in the number is ', sum_of_digits)"
   ]
  },
  {
   "cell_type": "markdown",
   "metadata": {},
   "source": [
    "5. Write some code to calculate the hypotenuse of a right angled triangle. Get the side lengths from the user.\n",
    "\n",
    "        user --> first side lenth : 6\n",
    "        user --> first side lenth : 8\n",
    "        output --> \"The length of the hypotenuse is 10"
   ]
  },
  {
   "cell_type": "code",
   "execution_count": 42,
   "metadata": {},
   "outputs": [
    {
     "name": "stdin",
     "output_type": "stream",
     "text": [
      "first side lenth : 3\n",
      "second side lenth : 5\n"
     ]
    },
    {
     "name": "stdout",
     "output_type": "stream",
     "text": [
      "The length of the hypotenuse is  5.830951894845301\n"
     ]
    }
   ],
   "source": [
    "side_1 = int(input(\"first side lenth :\"))\n",
    "side_2 = int(input(\"second side lenth :\"))\n",
    "len_hypt = (side_1**2 + side_2 **2)**0.5\n",
    "print(\"The length of the hypotenuse is \", len_hypt)"
   ]
  }
 ],
 "metadata": {
  "kernelspec": {
   "display_name": "Python 3",
   "language": "python",
   "name": "python3"
  },
  "language_info": {
   "codemirror_mode": {
    "name": "ipython",
    "version": 3
   },
   "file_extension": ".py",
   "mimetype": "text/x-python",
   "name": "python",
   "nbconvert_exporter": "python",
   "pygments_lexer": "ipython3",
   "version": "3.7.7"
  }
 },
 "nbformat": 4,
 "nbformat_minor": 4
}

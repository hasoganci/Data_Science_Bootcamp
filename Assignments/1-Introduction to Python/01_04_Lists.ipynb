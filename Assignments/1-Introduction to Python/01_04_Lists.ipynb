{
 "cells": [
  {
   "cell_type": "markdown",
   "metadata": {},
   "source": [
    "# Assignments for \"Lists\" "
   ]
  },
  {
   "cell_type": "markdown",
   "metadata": {},
   "source": [
    "1. Write a code to compute the sum of the two lowest numbers and the two highest numbers in the following list.\n",
    "\n",
    "        my_list = [34, 56, 76, 45, 2, 12, 67, 98, 37, 54, 66]"
   ]
  },
  {
   "cell_type": "code",
   "execution_count": 4,
   "metadata": {},
   "outputs": [
    {
     "name": "stdout",
     "output_type": "stream",
     "text": [
      "Sum of the two lowest numbers and the two highest numbers in the list: 188\n"
     ]
    }
   ],
   "source": [
    "my_list = [34, 56, 76, 45, 2, 12, 67, 98, 37, 54, 66]\n",
    "my_list.sort()\n",
    "lowests = my_list[0] + my_list[1]\n",
    "my_list.sort(reverse=True)\n",
    "highests = my_list[0] + my_list[1]\n",
    "print(\"Sum of the two lowest numbers and the two highest numbers in the list:\", lowests + highests)"
   ]
  },
  {
   "cell_type": "markdown",
   "metadata": {},
   "source": [
    "2. The following two lists contain student names and scores. Write a code that gets the name from the user and prints the score of that student.\n",
    "\n",
    "        names = [\"David\", \"Michael\", \"John\", \"James\", \"Greg\", \"Mark\", \"William\", \"Richard\", \"Thomas\", \"Steven\", \n",
    "                 \"Mary\", \"Susan\", \"Maria\", \"Karen\", \"Lisa\", \"Linda\", \"Donna\", \"Patricia\", \"Debra\", \"Eric\"]\n",
    "\n",
    "        scores = [99, 87, 78, 86, 68, 94, 76, 97, 56, 98, 76, 87, 79, 90, 73, 93, 82, 69, 97, 98]"
   ]
  },
  {
   "cell_type": "code",
   "execution_count": 10,
   "metadata": {},
   "outputs": [
    {
     "name": "stdin",
     "output_type": "stream",
     "text": [
      "entern name of the student:  Patricia\n"
     ]
    },
    {
     "name": "stdout",
     "output_type": "stream",
     "text": [
      "69\n"
     ]
    }
   ],
   "source": [
    "names = [\"David\", \"Michael\", \"John\", \"James\", \"Greg\", \"Mark\", \"William\", \"Richard\", \"Thomas\", \"Steven\", \n",
    "          \"Mary\", \"Susan\", \"Maria\", \"Karen\", \"Lisa\", \"Linda\", \"Donna\", \"Patricia\", \"Debra\", \"Eric\"]\n",
    "\n",
    "scores = [99, 87, 78, 86, 68, 94, 76, 97, 56, 98, 76, 87, 79, 90, 73, 93, 82, 69, 97, 98]\n",
    "\n",
    "name = input('entern name of the student: ')\n",
    "print(scores[names.index(name)])"
   ]
  },
  {
   "cell_type": "markdown",
   "metadata": {},
   "source": [
    "3. By using the two lists above, what is the maximum score and how many students got that score?"
   ]
  },
  {
   "cell_type": "code",
   "execution_count": 18,
   "metadata": {},
   "outputs": [
    {
     "name": "stdout",
     "output_type": "stream",
     "text": [
      "max score: 99\n",
      "1 student(s) got that score\n"
     ]
    }
   ],
   "source": [
    "scores.sort(reverse=True)\n",
    "print(\"max score:\", scores[0])\n",
    "print(scores.count(scores[0]), \"student(s) got that score\")"
   ]
  },
  {
   "cell_type": "markdown",
   "metadata": {},
   "source": [
    "4. We can confuse about how many days a month is. Create a list to handle it. You will have month names and day counts in your list together as a nested list."
   ]
  },
  {
   "cell_type": "code",
   "execution_count": 30,
   "metadata": {},
   "outputs": [
    {
     "data": {
      "text/plain": [
       "[['January', 31],\n",
       " ['February', 28],\n",
       " ['March', 31],\n",
       " ['April', 30],\n",
       " ['May', 31],\n",
       " ['June', 30],\n",
       " ['July', 31],\n",
       " ['August', 31],\n",
       " ['September', 30],\n",
       " ['October', 31],\n",
       " ['November', 30],\n",
       " ['December', 31]]"
      ]
     },
     "execution_count": 30,
     "metadata": {},
     "output_type": "execute_result"
    }
   ],
   "source": [
    "months_with_days = [[\"January\", 31], \n",
    "                    [\"February\",  28], \n",
    "                    [\"March\",  31], \n",
    "                    [\"April\",  30], \n",
    "                    [\"May\",  31], \n",
    "                    [\"June\", 30], \n",
    "                    [\"July\",  31], \n",
    "                    [\"August\",  31], \n",
    "                    [\"September\",  30], \n",
    "                    [\"October\",  31], \n",
    "                    [\"November\",  30], \n",
    "                    [\"December\", 31]]\n",
    "months_with_days"
   ]
  },
  {
   "cell_type": "markdown",
   "metadata": {},
   "source": [
    "5. Now create lists of months for each season. Get month names and day counts from the list that you create before with slicing. Name the lists with seasons."
   ]
  },
  {
   "cell_type": "code",
   "execution_count": 38,
   "metadata": {},
   "outputs": [
    {
     "name": "stdout",
     "output_type": "stream",
     "text": [
      "spring months: [['March', 31], ['April', 30], ['May', 31]]\n",
      "summer months: [['June', 30], ['July', 31], ['August', 31]]\n",
      "fall months: [['September', 30], ['October', 31], ['November', 30]]\n",
      "winter months: [['December', 31], ['January', 31], ['February', 28]]\n"
     ]
    }
   ],
   "source": [
    "spring = [months_with_days[2], months_with_days[3], months_with_days[4]]\n",
    "summer = [months_with_days[5], months_with_days[6], months_with_days[7]]\n",
    "fall = [months_with_days[8], months_with_days[9], months_with_days[10]]\n",
    "winter = [months_with_days[11], months_with_days[0], months_with_days[1]]\n",
    "print(\"spring months:\", spring)\n",
    "print(\"summer months:\", summer)\n",
    "print(\"fall months:\", fall)\n",
    "print(\"winter months:\", winter)"
   ]
  },
  {
   "cell_type": "markdown",
   "metadata": {},
   "source": [
    "6. Finally, from the list in the previous question, calculate how many days the summer season lasts."
   ]
  },
  {
   "cell_type": "code",
   "execution_count": 42,
   "metadata": {},
   "outputs": [
    {
     "name": "stdout",
     "output_type": "stream",
     "text": [
      "spring months have 92 days.\n",
      "summer months have 92 days.\n",
      "fall months have 91 days.\n",
      "winter months have 90 days.\n"
     ]
    }
   ],
   "source": [
    "print(\"spring months have {} days.\".format(spring[0][1] + spring[1][1] + spring[2][1]))\n",
    "print(\"summer months have {} days.\".format(summer[0][1] + summer[1][1] + summer[2][1]))\n",
    "print(\"fall months have {} days.\".format(fall[0][1] + fall[1][1] + fall[2][1]))\n",
    "print(\"winter months have {} days.\".format(winter[0][1] + winter[1][1] + winter[2][1]))"
   ]
  }
 ],
 "metadata": {
  "kernelspec": {
   "display_name": "Python 3",
   "language": "python",
   "name": "python3"
  },
  "language_info": {
   "codemirror_mode": {
    "name": "ipython",
    "version": 3
   },
   "file_extension": ".py",
   "mimetype": "text/x-python",
   "name": "python",
   "nbconvert_exporter": "python",
   "pygments_lexer": "ipython3",
   "version": "3.7.7"
  }
 },
 "nbformat": 4,
 "nbformat_minor": 4
}
